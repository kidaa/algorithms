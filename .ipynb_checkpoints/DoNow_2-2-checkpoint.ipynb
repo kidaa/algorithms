{
 "cells": [
  {
   "cell_type": "markdown",
   "metadata": {},
   "source": [
    "#Accomplish the following tasks by whatever means necessary based on the material we've covered in class. Save the notebook in this format: `<lastname>_DoNow_2-2.ipynb` where `<lastname>` is your last (family) name and turn it in via Slack."
   ]
  },
  {
   "cell_type": "code",
   "execution_count": 1,
   "metadata": {
    "collapsed": true
   },
   "outputs": [],
   "source": [
    "# the magic command to plot inline with the notebook \n",
    "# https://ipython.org/ipython-doc/dev/interactive/tutorial.html#magic-functions\n",
    "%matplotlib inline"
   ]
  },
  {
   "cell_type": "markdown",
   "metadata": {},
   "source": [
    "###1. Import the pandas package and use the common alias"
   ]
  },
  {
   "cell_type": "code",
   "execution_count": 2,
   "metadata": {
    "collapsed": true
   },
   "outputs": [],
   "source": [
    "import pandas as pd"
   ]
  },
  {
   "cell_type": "markdown",
   "metadata": {},
   "source": [
    "###2. Read the file \"heights_weights.xlsx\" in the `data` folder into a pandas dataframe"
   ]
  },
  {
   "cell_type": "code",
   "execution_count": 4,
   "metadata": {
    "collapsed": false
   },
   "outputs": [
    {
     "data": {
      "text/html": [
       "<div style=\"max-height:1000px;max-width:1500px;overflow:auto;\">\n",
       "<table border=\"1\" class=\"dataframe\">\n",
       "  <thead>\n",
       "    <tr style=\"text-align: right;\">\n",
       "      <th></th>\n",
       "      <th>name</th>\n",
       "      <th>height</th>\n",
       "      <th>weight</th>\n",
       "    </tr>\n",
       "  </thead>\n",
       "  <tbody>\n",
       "    <tr>\n",
       "      <th>0 </th>\n",
       "      <td>   Joyce</td>\n",
       "      <td> 51.3</td>\n",
       "      <td>  50.5</td>\n",
       "    </tr>\n",
       "    <tr>\n",
       "      <th>1 </th>\n",
       "      <td>  Louise</td>\n",
       "      <td> 56.3</td>\n",
       "      <td>  77.0</td>\n",
       "    </tr>\n",
       "    <tr>\n",
       "      <th>2 </th>\n",
       "      <td>   Alice</td>\n",
       "      <td> 56.5</td>\n",
       "      <td>  84.0</td>\n",
       "    </tr>\n",
       "    <tr>\n",
       "      <th>3 </th>\n",
       "      <td>   James</td>\n",
       "      <td> 57.3</td>\n",
       "      <td>  83.0</td>\n",
       "    </tr>\n",
       "    <tr>\n",
       "      <th>4 </th>\n",
       "      <td>  Thomas</td>\n",
       "      <td> 57.5</td>\n",
       "      <td>  85.0</td>\n",
       "    </tr>\n",
       "    <tr>\n",
       "      <th>5 </th>\n",
       "      <td>    John</td>\n",
       "      <td> 59.0</td>\n",
       "      <td>  99.5</td>\n",
       "    </tr>\n",
       "    <tr>\n",
       "      <th>6 </th>\n",
       "      <td>    Jane</td>\n",
       "      <td> 59.8</td>\n",
       "      <td>  84.5</td>\n",
       "    </tr>\n",
       "    <tr>\n",
       "      <th>7 </th>\n",
       "      <td> Jeffrey</td>\n",
       "      <td> 62.5</td>\n",
       "      <td>  84.0</td>\n",
       "    </tr>\n",
       "    <tr>\n",
       "      <th>8 </th>\n",
       "      <td>   Janet</td>\n",
       "      <td> 62.5</td>\n",
       "      <td> 112.5</td>\n",
       "    </tr>\n",
       "    <tr>\n",
       "      <th>9 </th>\n",
       "      <td>   Carol</td>\n",
       "      <td> 62.8</td>\n",
       "      <td> 102.5</td>\n",
       "    </tr>\n",
       "    <tr>\n",
       "      <th>10</th>\n",
       "      <td>   Henry</td>\n",
       "      <td> 63.5</td>\n",
       "      <td> 102.5</td>\n",
       "    </tr>\n",
       "    <tr>\n",
       "      <th>11</th>\n",
       "      <td>    Judy</td>\n",
       "      <td> 64.3</td>\n",
       "      <td>  90.0</td>\n",
       "    </tr>\n",
       "    <tr>\n",
       "      <th>12</th>\n",
       "      <td>  Robert</td>\n",
       "      <td> 64.8</td>\n",
       "      <td> 128.0</td>\n",
       "    </tr>\n",
       "    <tr>\n",
       "      <th>13</th>\n",
       "      <td> Barbara</td>\n",
       "      <td> 65.3</td>\n",
       "      <td>  98.0</td>\n",
       "    </tr>\n",
       "    <tr>\n",
       "      <th>14</th>\n",
       "      <td>    Mary</td>\n",
       "      <td> 66.5</td>\n",
       "      <td> 112.0</td>\n",
       "    </tr>\n",
       "    <tr>\n",
       "      <th>15</th>\n",
       "      <td> William</td>\n",
       "      <td> 66.5</td>\n",
       "      <td> 112.0</td>\n",
       "    </tr>\n",
       "    <tr>\n",
       "      <th>16</th>\n",
       "      <td>  Ronald</td>\n",
       "      <td> 67.0</td>\n",
       "      <td> 133.0</td>\n",
       "    </tr>\n",
       "    <tr>\n",
       "      <th>17</th>\n",
       "      <td>  Alfred</td>\n",
       "      <td> 69.0</td>\n",
       "      <td> 112.5</td>\n",
       "    </tr>\n",
       "    <tr>\n",
       "      <th>18</th>\n",
       "      <td>  Philip</td>\n",
       "      <td> 72.0</td>\n",
       "      <td> 150.0</td>\n",
       "    </tr>\n",
       "  </tbody>\n",
       "</table>\n",
       "</div>"
      ],
      "text/plain": [
       "       name  height  weight\n",
       "0     Joyce    51.3    50.5\n",
       "1    Louise    56.3    77.0\n",
       "2     Alice    56.5    84.0\n",
       "3     James    57.3    83.0\n",
       "4    Thomas    57.5    85.0\n",
       "5      John    59.0    99.5\n",
       "6      Jane    59.8    84.5\n",
       "7   Jeffrey    62.5    84.0\n",
       "8     Janet    62.5   112.5\n",
       "9     Carol    62.8   102.5\n",
       "10    Henry    63.5   102.5\n",
       "11     Judy    64.3    90.0\n",
       "12   Robert    64.8   128.0\n",
       "13  Barbara    65.3    98.0\n",
       "14     Mary    66.5   112.0\n",
       "15  William    66.5   112.0\n",
       "16   Ronald    67.0   133.0\n",
       "17   Alfred    69.0   112.5\n",
       "18   Philip    72.0   150.0"
      ]
     },
     "execution_count": 4,
     "metadata": {},
     "output_type": "execute_result"
    }
   ],
   "source": [
    "ourdataframe = pd.read_excel( \"height_weight.xlsx\" )\n",
    "ourdataframe"
   ]
  },
  {
   "cell_type": "markdown",
   "metadata": {},
   "source": [
    "###3. Plot a histogram for both height and weight. Describe the data distribution in comments."
   ]
  },
  {
   "cell_type": "code",
   "execution_count": 6,
   "metadata": {
    "collapsed": false
   },
   "outputs": [
    {
     "data": {
      "text/plain": [
       "array([[<matplotlib.axes._subplots.AxesSubplot object at 0x109b09390>,\n",
       "        <matplotlib.axes._subplots.AxesSubplot object at 0x109eaea90>]], dtype=object)"
      ]
     },
     "execution_count": 6,
     "metadata": {},
     "output_type": "execute_result"
    },
    {
     "data": {
      "image/png": "[encoded data removed]",
      "text/plain": [
       "<matplotlib.figure.Figure at 0x1099c7790>"
      ]
     },
     "metadata": {},
     "output_type": "display_data"
    }
   ],
   "source": [
    "ourdataframe.hist()\n",
    "#The histogram is right skewed, and it seems more students are around 65 or 55 inches height, and they are around 80 in weight.\n"
   ]
  },
  {
   "cell_type": "markdown",
   "metadata": {},
   "source": [
    "###4. Calculate the mean height and mean weight for the dataframe. "
   ]
  },
  {
   "cell_type": "code",
   "execution_count": 7,
   "metadata": {
    "collapsed": false
   },
   "outputs": [
    {
     "name": "stdout",
     "output_type": "stream",
     "text": [
      "height     62.336842\n",
      "weight    100.026316\n",
      "dtype: float64\n"
     ]
    }
   ],
   "source": [
    "print ourdataframe.mean()"
   ]
  },
  {
   "cell_type": "markdown",
   "metadata": {},
   "source": [
    "###5. Calculate the other significant descriptive statistics on the two data points\n",
    "+ Standard deviation\n",
    "+ Range\n",
    "+ Interquartile range"
   ]
  },
  {
   "cell_type": "code",
   "execution_count": 14,
   "metadata": {
    "collapsed": false
   },
   "outputs": [
    {
     "name": "stdout",
     "output_type": "stream",
     "text": [
      "          height      weight\n",
      "count  19.000000   19.000000\n",
      "mean   62.336842  100.026316\n",
      "std     5.127075   22.773933\n",
      "min    51.300000   50.500000\n",
      "25%    58.250000   84.250000\n",
      "50%    62.800000   99.500000\n",
      "75%    65.900000  112.250000\n",
      "max    72.000000  150.000000\n",
      "range for height is 20.7\n",
      "range for weight is 99.5\n",
      "7.65\n",
      "28.0\n"
     ]
    }
   ],
   "source": [
    "print ourdataframe.describe()\n",
    "print \"range for height is\", ourdataframe['height'].max() - ourdataframe['height'].min()\n",
    "print \"range for weight is\", ourdataframe['weight'].max() - ourdataframe['weight'].min()\n",
    "print ourdataframe['height'].quantile(q=0.75)-ourdataframe['height'].quantile(q= 0.25)\n",
    "print ourdataframe['weight'].quantile(q=0.75)-ourdataframe['weight'].quantile(q= 0.25)"
   ]
  },
  {
   "cell_type": "markdown",
   "metadata": {},
   "source": [
    "###6. Calculate the coefficient of correlation for these variables. Do they appear correlated? (put your answer in comments)"
   ]
  },
  {
   "cell_type": "code",
   "execution_count": 16,
   "metadata": {
    "collapsed": false
   },
   "outputs": [
    {
     "name": "stdout",
     "output_type": "stream",
     "text": [
      "          height    weight\n",
      "height  1.000000  0.877785\n",
      "weight  0.877785  1.000000\n"
     ]
    }
   ],
   "source": [
    "print ourdataframe.corr()"
   ]
  },
  {
   "cell_type": "markdown",
   "metadata": {},
   "source": [
    "###Extra Credit: Create a scatter plot of height and weight"
   ]
  },
  {
   "cell_type": "code",
   "execution_count": null,
   "metadata": {
    "collapsed": false
   },
   "outputs": [],
   "source": []
  },
  {
   "cell_type": "code",
   "execution_count": null,
   "metadata": {
    "collapsed": true
   },
   "outputs": [],
   "source": []
  }
 ],
 "metadata": {
  "kernelspec": {
   "display_name": "Python 2",
   "language": "python",
   "name": "python2"
  },
  "language_info": {
   "codemirror_mode": {
    "name": "ipython",
    "version": 2
   },
   "file_extension": ".py",
   "mimetype": "text/x-python",
   "name": "python",
   "nbconvert_exporter": "python",
   "pygments_lexer": "ipython2",
   "version": "2.7.10"
  }
 },
 "nbformat": 4,
 "nbformat_minor": 0
}
